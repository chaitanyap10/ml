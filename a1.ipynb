{
 "cells": [
  {
   "cell_type": "code",
   "execution_count": 17,
   "id": "c2ef1fb3",
   "metadata": {},
   "outputs": [
    {
     "name": "stdout",
     "output_type": "stream",
     "text": [
      "1212.4\n",
      "mean= 121.24000000000001\n",
      "median=\n",
      "90.4\n",
      "None\n",
      "variance=\n",
      "1.730559999999997\n",
      "standard deviation = 1.3155075066300446\n",
      "normalisation\n",
      "[0.24, 1.0, 0.29, 0.19, 0.0, 0.14, 0.2, 0.25, 0.3, 0.33]\n",
      "standardisation=\n"
     ]
    },
    {
     "data": {
      "text/plain": [
       "[-4.52, 56.45, -0.56, -8.39, -23.44, -11.89, -7.86, -3.76, 0.81, 3.16]"
      ]
     },
     "execution_count": 17,
     "metadata": {},
     "output_type": "execute_result"
    }
   ],
   "source": [
    "import math\n",
    "arr=[115.3,195.5,120.5,110.2,90.4,105.6,110.9,116.3,122.3,125.4]\n",
    "sum=0\n",
    "for i in range(len(arr)):\n",
    "    sum=sum+arr[i]\n",
    "\n",
    "print(sum)\n",
    "mean=sum/len(arr)\n",
    "print(\"mean=\",mean)\n",
    "\n",
    "def median(arr):\n",
    "    n=len(arr)\n",
    "    if (n%2)==0:\n",
    "        return arr[int(n/2)-1]\n",
    "    else:\n",
    "        return arr[int(n/2)]\n",
    "print(\"median=\")\n",
    "print(median(arr))\n",
    "\n",
    "def modeval(arr):\n",
    "    a=[]\n",
    "    for i in range(len(arr)):\n",
    "        if arr[i] not in a:\n",
    "            a.append(arr[i])\n",
    "        \n",
    "        else:\n",
    "            return arr[i]\n",
    "    #return arr[i]\n",
    "    \n",
    "print(modeval(arr))\n",
    "\n",
    "\n",
    "def var(arr):\n",
    "    num=0\n",
    "    for i in range(len(arr)):\n",
    "        num=(arr[i]-mean)**2\n",
    "    return (num/len(arr))\n",
    "print(\"variance=\")\n",
    "print(var(arr))\n",
    "\n",
    "\n",
    "std= var(arr)**0.5\n",
    "print(\"standard deviation =\",std)\n",
    "\n",
    "\n",
    "def norm(arr):\n",
    "    a=[]\n",
    "    for i in range (len(arr)):\n",
    "        \n",
    "        sum=((arr[i]-min(arr))/(max(arr)-min(arr)))\n",
    "        a.append(round(sum,2))\n",
    "    return a\n",
    "print(\"normalisation\")\n",
    "print(norm(arr))\n",
    "\n",
    "\n",
    "\n",
    "def standard(arr):\n",
    "    res=0\n",
    "    a=[]\n",
    "    \n",
    "    for i in range(len(arr)):\n",
    "        res=(arr[i]-mean)/std\n",
    "        a.append(round(res,2))\n",
    "    return a\n",
    "print(\"standardisation=\")\n",
    "standard(arr)\n",
    "\n",
    "        \n",
    "    \n",
    "        \n",
    "    \n",
    "        \n",
    "\n"
   ]
  },
  {
   "cell_type": "code",
   "execution_count": null,
   "id": "e2d773f7",
   "metadata": {},
   "outputs": [],
   "source": []
  }
 ],
 "metadata": {
  "kernelspec": {
   "display_name": "Python 3 (ipykernel)",
   "language": "python",
   "name": "python3"
  },
  "language_info": {
   "codemirror_mode": {
    "name": "ipython",
    "version": 3
   },
   "file_extension": ".py",
   "mimetype": "text/x-python",
   "name": "python",
   "nbconvert_exporter": "python",
   "pygments_lexer": "ipython3",
   "version": "3.11.2"
  }
 },
 "nbformat": 4,
 "nbformat_minor": 5
}
